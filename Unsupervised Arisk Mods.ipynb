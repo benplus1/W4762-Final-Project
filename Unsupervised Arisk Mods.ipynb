{
 "cells": [
  {
   "cell_type": "code",
   "execution_count": 3,
   "metadata": {},
   "outputs": [],
   "source": [
    "#5-fold cross validation\n",
    "# Run GBT classifier with cross-validation and plot ROC curves\n",
    "import numpy as np\n",
    "import pandas as pd\n",
    "from functools import reduce\n",
    "\n",
    "from sklearn.metrics import roc_curve, auc\n",
    "from sklearn import metrics\n",
    "from sklearn.ensemble import GradientBoostingClassifier\n",
    "from sklearn.model_selection import StratifiedKFold\n",
    "from scipy import interp \n",
    "from itertools import cycle\n",
    "\n",
    "from sklearn.mixture import BayesianGaussianMixture\n",
    "from sklearn.mixture import GaussianMixture\n",
    "\n",
    "import matplotlib.pyplot as plt"
   ]
  },
  {
   "cell_type": "code",
   "execution_count": 4,
   "metadata": {},
   "outputs": [],
   "source": [
    "#load data\n",
    "lm = pd.read_csv(\"../data/celltype_10cells_fraction_LM_noUnk.csv\", index_col=0)\n",
    "zhong = pd.read_csv(\"../data/celltype_10cells_fraction_zhong.csv\", index_col=0)"
   ]
  },
  {
   "cell_type": "code",
   "execution_count": 5,
   "metadata": {},
   "outputs": [],
   "source": [
    "df_merged = [lm, zhong]\n",
    "data = reduce(lambda left,right: pd.merge(left,right, left_index=True, right_index=True, how='inner'), df_merged)"
   ]
  },
  {
   "cell_type": "code",
   "execution_count": 6,
   "metadata": {},
   "outputs": [],
   "source": [
    "autism_gene = pd.read_csv(\"../data/sfari_high_confidence_genes_08292019.csv\", index_col=0)\n",
    "control_gene = pd.read_csv(\"../data/control_genes_1911_iossifov.csv\", index_col=0)"
   ]
  },
  {
   "cell_type": "code",
   "execution_count": 7,
   "metadata": {},
   "outputs": [
    {
     "data": {
      "text/plain": [
       "(88, 95)"
      ]
     },
     "execution_count": 7,
     "metadata": {},
     "output_type": "execute_result"
    }
   ],
   "source": [
    "autism = data.loc[data.index.intersection(autism_gene['gene.symbol']),]\n",
    "autism.shape"
   ]
  },
  {
   "cell_type": "code",
   "execution_count": 8,
   "metadata": {},
   "outputs": [
    {
     "data": {
      "text/plain": [
       "(156, 95)"
      ]
     },
     "execution_count": 8,
     "metadata": {},
     "output_type": "execute_result"
    }
   ],
   "source": [
    "control = data.loc[data.index.intersection(control_gene['GeneName']), ]\n",
    "control.shape"
   ]
  },
  {
   "cell_type": "code",
   "execution_count": 9,
   "metadata": {},
   "outputs": [
    {
     "data": {
      "text/plain": [
       "Index(['KDM5B', 'CACNA1H'], dtype='object')"
      ]
     },
     "execution_count": 9,
     "metadata": {},
     "output_type": "execute_result"
    }
   ],
   "source": [
    "autism.index.intersection(control.index)"
   ]
  },
  {
   "cell_type": "code",
   "execution_count": 10,
   "metadata": {},
   "outputs": [
    {
     "data": {
      "text/plain": [
       "(154, 95)"
      ]
     },
     "execution_count": 10,
     "metadata": {},
     "output_type": "execute_result"
    }
   ],
   "source": [
    "control = control.drop(['CACNA1H', ])\n",
    "control = control.drop(['KDM5B', ])\n",
    "control.shape"
   ]
  },
  {
   "cell_type": "code",
   "execution_count": 11,
   "metadata": {},
   "outputs": [
    {
     "data": {
      "text/plain": [
       "(242, 95)"
      ]
     },
     "execution_count": 11,
     "metadata": {},
     "output_type": "execute_result"
    }
   ],
   "source": [
    "combine = [autism, control]\n",
    "combine = pd.concat(combine)\n",
    "combine.shape"
   ]
  },
  {
   "cell_type": "code",
   "execution_count": 12,
   "metadata": {},
   "outputs": [
    {
     "data": {
      "text/plain": [
       "(242, 1)"
      ]
     },
     "execution_count": 12,
     "metadata": {},
     "output_type": "execute_result"
    }
   ],
   "source": [
    "prelabel = np.array([1,0])\n",
    "label = pd.DataFrame({'labels': np.repeat(prelabel, [autism.shape[0], control.shape[0]], axis = 0)})\n",
    "label.shape"
   ]
  },
  {
   "cell_type": "code",
   "execution_count": 13,
   "metadata": {},
   "outputs": [],
   "source": [
    "index = np.random.permutation(label.index)\n",
    "combine = combine.iloc[index]\n",
    "label = label.iloc[index]"
   ]
  },
  {
   "cell_type": "code",
   "execution_count": 209,
   "metadata": {},
   "outputs": [],
   "source": [
    "import keras\n",
    "from keras.models import Sequential\n",
    "from keras.layers import Dense, LSTM, Dropout\n",
    "from keras.layers import Conv1D, MaxPooling2D, Flatten\n",
    "\n",
    "# input dim must be 95\n",
    "# simple neural network can match the supervised classifier\n",
    "def build_keras_model_simple():\n",
    "    model = Sequential()\n",
    "    model.add(Dense(95, input_dim=95, activation='relu'))\n",
    "    model.add(Dense(60, activation='relu'))\n",
    "    model.add(Dense(30, activation='relu'))\n",
    "    model.add(Dense(60, activation='relu'))\n",
    "    model.add(Dense(30, activation='relu'))\n",
    "    model.add(Dense(60, activation='relu'))\n",
    "    model.add(Dense(30, activation='relu'))\n",
    "    model.add(Dense(1, activation='sigmoid'))\n",
    "    # Compile model\n",
    "    optimizer = keras.optimizers.Adam(lr=0.001)\n",
    "    model.compile(loss='binary_crossentropy', optimizer=optimizer, metrics=['accuracy'])\n",
    "    return model\n",
    "\n",
    "def build_keras_model_CNN():\n",
    "    model = Sequential()\n",
    "    model.add(Conv1D(64, (4), input_shape=(95, 1)))\n",
    "#     model.add(MaxPooling2D(pool_size = 2))\n",
    "    model.add(Flatten())\n",
    "    model.add(Dense(64, activation='relu'))\n",
    "    model.add(Dense(1, activation='sigmoid'))\n",
    "    # Compile model\n",
    "    model.compile(loss='categorical_crossentropy', optimizer='adam', metrics=['accuracy'])\n",
    "    return model\n",
    "\n",
    "def build_keras_model_GAN():\n",
    "    model = Sequential()\n",
    "#     model.add(Dense(95, input_dim=95, activation='relu'))\n",
    "    \n",
    "    model.add(LSTM(64, input_shape=(193,95)))\n",
    "#     add return sequences:\n",
    "#     model.add(LSTM(64, return_sequences=True))\n",
    "#     add dropout\n",
    "#     model.add(LSTM(64, dropout=0.25, recurrent_dropout=0.25))\n",
    "    model.add(Dense(64, activation=\"relu\"))\n",
    "    \n",
    "#     Dropout?\n",
    "#     model.add(Dropout(0.5))\n",
    "    \n",
    "    model.add(Dense(1, activation='sigmoid'))\n",
    "    # Compile model\n",
    "    model.compile(loss='binary_crossentropy', optimizer='adam', metrics=['accuracy'])\n",
    "    return model"
   ]
  },
  {
   "cell_type": "code",
   "execution_count": 210,
   "metadata": {},
   "outputs": [],
   "source": [
    "from sklearn.neural_network import MLPClassifier\n",
    "from sklearn.ensemble import RandomForestClassifier\n",
    "from sklearn.ensemble import BaggingClassifier\n",
    "from sklearn.ensemble import ExtraTreesClassifier\n",
    "from sklearn.tree import DecisionTreeClassifier\n",
    "from sklearn.ensemble import AdaBoostClassifier\n",
    "from sklearn.neighbors import KNeighborsClassifier\n",
    "from sklearn.ensemble import VotingClassifier\n",
    "from sklearn.linear_model import SGDClassifier\n",
    "from sklearn.naive_bayes import GaussianNB\n",
    "from sklearn.linear_model import LogisticRegression\n",
    "from sklearn.svm import SVC\n",
    "from sklearn.ensemble import VotingClassifier\n",
    "\n",
    "from sklearn.preprocessing import StandardScaler\n",
    "from sklearn.pipeline import make_pipeline\n",
    "from sklearn.ensemble import StackingClassifier"
   ]
  },
  {
   "cell_type": "code",
   "execution_count": 211,
   "metadata": {},
   "outputs": [
    {
     "name": "stdout",
     "output_type": "stream",
     "text": [
      "WARNING:tensorflow:6 out of the last 11 calls to <function Model.make_predict_function.<locals>.predict_function at 0x7fb558935c10> triggered tf.function retracing. Tracing is expensive and the excessive number of tracings could be due to (1) creating @tf.function repeatedly in a loop, (2) passing tensors with different shapes, (3) passing Python objects instead of tensors. For (1), please define your @tf.function outside of the loop. For (2), @tf.function has experimental_relax_shapes=True option that relaxes argument shapes that can avoid unnecessary retracing. For (3), please refer to https://www.tensorflow.org/guide/function#controlling_retracing and https://www.tensorflow.org/api_docs/python/tf/function for  more details.\n",
      "WARNING:tensorflow:6 out of the last 11 calls to <function Model.make_predict_function.<locals>.predict_function at 0x7fb514d56ee0> triggered tf.function retracing. Tracing is expensive and the excessive number of tracings could be due to (1) creating @tf.function repeatedly in a loop, (2) passing tensors with different shapes, (3) passing Python objects instead of tensors. For (1), please define your @tf.function outside of the loop. For (2), @tf.function has experimental_relax_shapes=True option that relaxes argument shapes that can avoid unnecessary retracing. For (3), please refer to https://www.tensorflow.org/guide/function#controlling_retracing and https://www.tensorflow.org/api_docs/python/tf/function for  more details.\n",
      "WARNING:tensorflow:6 out of the last 11 calls to <function Model.make_predict_function.<locals>.predict_function at 0x7fb5b40775e0> triggered tf.function retracing. Tracing is expensive and the excessive number of tracings could be due to (1) creating @tf.function repeatedly in a loop, (2) passing tensors with different shapes, (3) passing Python objects instead of tensors. For (1), please define your @tf.function outside of the loop. For (2), @tf.function has experimental_relax_shapes=True option that relaxes argument shapes that can avoid unnecessary retracing. For (3), please refer to https://www.tensorflow.org/guide/function#controlling_retracing and https://www.tensorflow.org/api_docs/python/tf/function for  more details.\n",
      "WARNING:tensorflow:6 out of the last 11 calls to <function Model.make_predict_function.<locals>.predict_function at 0x7fb514bd3d30> triggered tf.function retracing. Tracing is expensive and the excessive number of tracings could be due to (1) creating @tf.function repeatedly in a loop, (2) passing tensors with different shapes, (3) passing Python objects instead of tensors. For (1), please define your @tf.function outside of the loop. For (2), @tf.function has experimental_relax_shapes=True option that relaxes argument shapes that can avoid unnecessary retracing. For (3), please refer to https://www.tensorflow.org/guide/function#controlling_retracing and https://www.tensorflow.org/api_docs/python/tf/function for  more details.\n",
      "WARNING:tensorflow:6 out of the last 11 calls to <function Model.make_predict_function.<locals>.predict_function at 0x7fb514d27160> triggered tf.function retracing. Tracing is expensive and the excessive number of tracings could be due to (1) creating @tf.function repeatedly in a loop, (2) passing tensors with different shapes, (3) passing Python objects instead of tensors. For (1), please define your @tf.function outside of the loop. For (2), @tf.function has experimental_relax_shapes=True option that relaxes argument shapes that can avoid unnecessary retracing. For (3), please refer to https://www.tensorflow.org/guide/function#controlling_retracing and https://www.tensorflow.org/api_docs/python/tf/function for  more details.\n"
     ]
    },
    {
     "data": {
      "image/png": "[encoded data removed]",
      "text/plain": [
       "<Figure size 432x288 with 1 Axes>"
      ]
     },
     "metadata": {
      "needs_background": "light"
     },
     "output_type": "display_data"
    }
   ],
   "source": [
    "cv = StratifiedKFold(n_splits=5)\n",
    "\n",
    "tprs = []\n",
    "aucs = []\n",
    "mean_fpr = np.linspace(0, 1, 100)\n",
    "\n",
    "i = 0\n",
    "\n",
    "for train, test in cv.split(combine, label):\n",
    "    # supervised params\n",
    "    # Gradient Tree Boosting\n",
    "#     params1 = {'n_estimators': 300,'learning_rate': 0.05, 'max_depth':1, 'random_state':1}\n",
    "#     clf1 = GradientBoostingClassifier(**params).fit(combine.iloc[train], label.iloc[train])\n",
    "\n",
    "#     # multi layer perceptron\n",
    "#     params2 = {'solver': 'adam', 'alpha': 1e-5, 'hidden_layer_sizes':(100,), 'random_state': 1, 'max_iter': 500}\n",
    "#     clf2 = MLPClassifier(**params).fit(combine.iloc[train], label.iloc[train])\n",
    "    \n",
    "#     # random forest classifier // pretty good // increasing n_estimators doesn't change anything, just run time\n",
    "#     params3 = {\"n_estimators\": 300, \"criterion\": \"entropy\", \"max_features\":None, 'random_state': 1}\n",
    "#     clf3 = RandomForestClassifier(**params).fit(combine.iloc[train], label.iloc[train])\n",
    "    \n",
    "#     # extra tree classifier // pretty good // increasing n_estimators doesn't change anything\n",
    "#     params4 = {\"n_estimators\": 300, \"criterion\": \"gini\", \"max_features\":None, 'random_state': 1}\n",
    "#     clf4 = ExtraTreesClassifier(**params).fit(combine.iloc[train], label.iloc[train])\n",
    "\n",
    "#     # ADABOOST classifier // below average // increasing n_estimators doesn't change anything\n",
    "#     params5 = {\"n_estimators\": 150, \"algorithm\":\"SAMME.R\", 'random_state': 1}\n",
    "#     clf5 = AdaBoostClassifier(**params).fit(combine.iloc[train], label.iloc[train])\n",
    "    \n",
    "#     # k-neighbors classifier // pretty good // modifying these values don't do anything\n",
    "#     params6 = {\"n_neighbors\": 20, \"algorithm\":\"auto\", \"p\":1, \"leaf_size\": 50, \"weights\":'uniform', 'random_state': 1}\n",
    "#     clf6 = KNeighborsClassifier(**params).fit(combine.iloc[train], label.iloc[train])\n",
    "    \n",
    "#     # gaussian NB classifier // pretty good // modifying these values don't do anything\n",
    "#     params7 = { 'random_state': 1}\n",
    "#     clf7 = GaussianNB(**params).fit(combine.iloc[train], label.iloc[train])\n",
    "    \n",
    "#     # logistic regression // pretty good // modifying these values don't do anything\n",
    "#     params8 = {'random_state': 1}\n",
    "#     clf8 = LogisticRegression(**params).fit(combine.iloc[train], label.iloc[train])\n",
    "    \n",
    "#     voting classifier // pretty good // modifying these values don't do anything\n",
    "#     ests = [('gtb', clf1), ('percep', clf2), ('rf', clf3), ('et', clf4), ('ab', clf5), ('knn', clf6)\n",
    "#            , ('nb', clf7), ('lr', clf8)]\n",
    "#     ws = [3, 1, 3, 3, 1, 1, 1, 1]\n",
    "#     eclf = VotingClassifier(estimators=ests, voting='soft', weights=ws).fit(combine.iloc[train], label.iloc[train])\n",
    "    \n",
    "    # stacking classifier // pretty good // modifying these values don't do anything\n",
    "#     ests = [('rf', clf3), ('et', clf4), ('ab', clf5), ('knn', clf6)\n",
    "#            , ('nb', clf7), ('lr', clf8)]\n",
    "#     eclf = StackingClassifier(estimators=ests, final_estimator = clf1).fit(combine.iloc[train], label.iloc[train])\n",
    "    \n",
    "    # regular GMM\n",
    "#     params = {'n_components': 2, 'covariance_type': 'tied', 'random_state': 1, 'tol': 1e-4, 'max_iter': 1000, \n",
    "#              'init_params': 'kmeans'}\n",
    "#     clf = GaussianMixture(**params).fit(combine.iloc[train], label.iloc[train])\n",
    "    #print(combine.ix[test])\n",
    "    \n",
    "    # bayesian GMM\n",
    "#     params = {'n_components': 2, 'covariance_type': 'tied', 'random_state': 3, 'tol': 1e-4, 'max_iter': 1000,\n",
    "#              'init_params': 'kmeans', 'weight_concentration_prior_type': 'dirichlet_process',\n",
    "#              'weight_concentration_prior': 0.9, 'mean_precision_prior': 0.8}\n",
    "#     clf = BayesianGaussianMixture(**params).fit(combine.iloc[train], label.iloc[train])\n",
    "    \n",
    "#     probas_ = eclf.predict_proba(combine.iloc[test])\n",
    "    \n",
    "    # Keras NN Simple\n",
    "    keras_model = build_keras_model_simple()\n",
    "#     keras_model.fit(combine.iloc[train], label.iloc[train], epochs=5, batch_size=100, verbose=1)\n",
    "    keras_model.fit(combine.iloc[train], label.iloc[train], epochs=1000, batch_size=20, verbose=0)\n",
    "    \n",
    "        # Keras CNN\n",
    "#     print(combine.iloc[train].shape)\n",
    "#     print(label.iloc[train].shape)\n",
    "#     X_expand_dims = np.expand_dims(combine.iloc[train], axis = (2))\n",
    "#     print(X_expand_dims.shape)\n",
    "#     keras_model = build_keras_model_CNN()\n",
    "# #     keras_model.fit(combine.iloc[train], label.iloc[train], epochs=5, batch_size=100, verbose=1)\n",
    "#     keras_model.fit(X_expand_dims, label.iloc[train], epochs=100, batch_size=100, verbose=0)\n",
    "\n",
    "    # Neural decision tree:\n",
    "#     keras_model = create_tree_model()\n",
    "    \n",
    "#     X_test_expand_dims = np.expand_dims(combine.iloc[test], axis=(2))\n",
    "#     probas_ = keras_model.predict(X_test_expand_dims)\n",
    "    \n",
    "    probas_ = keras_model.predict(combine.iloc[test])\n",
    "#     print(probas_.shape)\n",
    "\n",
    "    # Compute ROC curve and area the curve\n",
    "    # not using neural net\n",
    "#     fpr, tpr, thresholds = roc_curve(label.iloc[test], probas_[:,[1]])\n",
    "    # using neural net\n",
    "    fpr, tpr, thresholds = roc_curve(label.iloc[test], probas_)\n",
    "    tprs.append(np.interp(mean_fpr, fpr, tpr))\n",
    "    tprs[-1][0] = 0.0\n",
    "    roc_auc = auc(fpr, tpr)\n",
    "    aucs.append(roc_auc)\n",
    "    plt.plot(fpr, tpr, lw=1, alpha=0.3,\n",
    "             label='ROC fold %d (AUC = %0.2f)' % (i, roc_auc))\n",
    "\n",
    "    i += 1\n",
    "    \n",
    "plt.plot([0, 1], [0, 1], linestyle='--', lw=2, color='r',\n",
    "         alpha=.8)\n",
    "\n",
    "mean_tpr = np.mean(tprs, axis=0)\n",
    "mean_tpr[-1] = 1.0\n",
    "mean_auc = auc(mean_fpr, mean_tpr)\n",
    "std_auc = np.std(aucs)\n",
    "plt.plot(mean_fpr, mean_tpr, color='b',\n",
    "         label=r'Mean ROC (AUC = %0.2f $\\pm$ %0.2f)' % (mean_auc, std_auc),\n",
    "         lw=2, alpha=.8)\n",
    "\n",
    "std_tpr = np.std(tprs, axis=0)\n",
    "tprs_upper = np.minimum(mean_tpr + std_tpr, 1)\n",
    "tprs_lower = np.maximum(mean_tpr - std_tpr, 0)\n",
    "plt.fill_between(mean_fpr, tprs_lower, tprs_upper, color='grey', alpha=.2,\n",
    "                 label=r'$\\pm$ 1 std. dev.')\n",
    "\n",
    "plt.xlim([-0.05, 1.05])\n",
    "plt.ylim([-0.05, 1.05])\n",
    "plt.xlabel('False Positive Rate')\n",
    "plt.ylabel('True Positive Rate')\n",
    "plt.title('ROC curve of 5-fold cross validation')\n",
    "plt.legend(loc=\"lower right\")\n",
    "plt.savefig('stack.png')\n",
    "plt.show()\n"
   ]
  },
  {
   "cell_type": "code",
   "execution_count": null,
   "metadata": {},
   "outputs": [],
   "source": []
  },
  {
   "cell_type": "code",
   "execution_count": null,
   "metadata": {},
   "outputs": [],
   "source": []
  },
  {
   "cell_type": "code",
   "execution_count": null,
   "metadata": {},
   "outputs": [],
   "source": []
  }
 ],
 "metadata": {
  "kernelspec": {
   "display_name": "Python 3",
   "language": "python",
   "name": "python3"
  },
  "language_info": {
   "codemirror_mode": {
    "name": "ipython",
    "version": 3
   },
   "file_extension": ".py",
   "mimetype": "text/x-python",
   "name": "python",
   "nbconvert_exporter": "python",
   "pygments_lexer": "ipython3",
   "version": "3.8.3"
  }
 },
 "nbformat": 4,
 "nbformat_minor": 4
}
